{
 "cells": [
  {
   "cell_type": "code",
   "execution_count": 1,
   "metadata": {},
   "outputs": [],
   "source": [
    "import pyautogui as pag\n",
    "from pynput import keyboard\n",
    "import time\n",
    "\n",
    "\n",
    "def on_press(key):\n",
    "    if key == keyboard.Key.esc:\n",
    "        return False  # stop listener\n",
    "    \n",
    "listener = keyboard.Listener(on_press=on_press)\n",
    "listener.start() \n",
    "listener.join() \n",
    "\n",
    "def buyCursor(Multiple):\n",
    "    for i in range[0, Multiple]:\n",
    "        pag.leftClick(x=3160, y=680)\n",
    "\n",
    "pag.leftClick(x=1599, y=1416)\n",
    "pag.write(\"Google Chrome\")\n",
    "pag.leftClick(x=1615, y=792)\n",
    "pag.leftClick(x=155, y=62)\n",
    "pag.write(\"cookieclicker.ee\")\n",
    "pag.press('enter')\n",
    "time.sleep(3)\n",
    "pag.leftClick(x=1715, y=612)\n",
    "pag.leftClick(x=1097, y=145)\n",
    "pag.leftClick(x=3025, y=496)\n",
    "pag.leftClick(x=1615, y=818)\n",
    "pag.leftClick(x=3070, y=245)\n",
    "pag.write(\"Auto Farm\")\n",
    "pag.leftClick(x=506, y=624,clicks = 15)"
   ]
  },
  {
   "cell_type": "code",
   "execution_count": 2,
   "metadata": {},
   "outputs": [
    {
     "name": "stdout",
     "output_type": "stream",
     "text": [
      "Point(x=506, y=624)\n",
      "Point(x=3160, y=680)\n",
      "Point(x=3161, y=743)\n"
     ]
    }
   ],
   "source": [
    "from pynput import keyboard\n",
    "import pyautogui as pag\n",
    "\n",
    "def on_press(key):\n",
    "    if key == keyboard.Key.esc:\n",
    "        return False  # stop listener\n",
    "while True:    \n",
    "    listener = keyboard.Listener(on_press=on_press)\n",
    "    listener.start() \n",
    "    listener.join() \n",
    "    print(pag.position())\n"
   ]
  },
  {
   "cell_type": "code",
   "execution_count": null,
   "metadata": {},
   "outputs": [],
   "source": []
  }
 ],
 "metadata": {
  "kernelspec": {
   "display_name": "Python 3",
   "language": "python",
   "name": "python3"
  },
  "language_info": {
   "codemirror_mode": {
    "name": "ipython",
    "version": 3
   },
   "file_extension": ".py",
   "mimetype": "text/x-python",
   "name": "python",
   "nbconvert_exporter": "python",
   "pygments_lexer": "ipython3",
   "version": "3.10.5"
  }
 },
 "nbformat": 4,
 "nbformat_minor": 2
}
