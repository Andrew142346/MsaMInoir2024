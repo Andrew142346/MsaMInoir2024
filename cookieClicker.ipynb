{
 "cells": [
  {
   "cell_type": "code",
   "execution_count": 30,
   "metadata": {},
   "outputs": [
    {
     "name": "stdout",
     "output_type": "stream",
     "text": [
      "Point(x=512, y=648)\n"
     ]
    }
   ],
   "source": [
    "import pyautogui as pag\n",
    "from pynput import keyboard\n",
    "import time\n",
    "\n",
    "\n",
    "def on_press(key):\n",
    "    if key == keyboard.Key.esc:\n",
    "        return False  # stop listener\n",
    "\n",
    "listener = keyboard.Listener(on_press=on_press)\n",
    "listener.start() \n",
    "listener.join() \n",
    "\n",
    "\n",
    "pag.leftClick(1900, 1400)\n",
    "pag.leftClick(160, 60)\n",
    "pag.write(\"Cookie Clicker\")\n",
    "pag.press('enter')\n",
    "pag.leftClick(293, 359)\n",
    "time.sleep(3)\n",
    "pag.leftClick(501, 267)\n",
    "pag.write(\"Auto Farm\")\n",
    "pag.leftClick(1656, 834)\n",
    "\n",
    "while True:\n",
    "    clickNum = 0 \n",
    "    if clickNum < 100:\n",
    "        pag.click(512, 648)\n",
    "        clickNum += 1\n",
    "\n",
    "print(pag.position())\n",
    "\n",
    "\n"
   ]
  },
  {
   "cell_type": "code",
   "execution_count": null,
   "metadata": {},
   "outputs": [],
   "source": []
  }
 ],
 "metadata": {
  "kernelspec": {
   "display_name": "Python 3",
   "language": "python",
   "name": "python3"
  },
  "language_info": {
   "codemirror_mode": {
    "name": "ipython",
    "version": 3
   },
   "file_extension": ".py",
   "mimetype": "text/x-python",
   "name": "python",
   "nbconvert_exporter": "python",
   "pygments_lexer": "ipython3",
   "version": "3.10.5"
  }
 },
 "nbformat": 4,
 "nbformat_minor": 2
}
